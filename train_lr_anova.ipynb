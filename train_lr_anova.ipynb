{
 "cells": [
  {
   "cell_type": "code",
   "execution_count": 5,
   "metadata": {},
   "outputs": [],
   "source": [
    "from utils.preprocessing import preprocessingV1\n",
    "from utils.modelization import saveModel,loadModel,submitModel\n",
    "\n",
    "import pandas as pd\n",
    "import numpy as np\n",
    "\n",
    "import matplotlib.pyplot as plt\n",
    "from sklearn import preprocessing"
   ]
  },
  {
   "cell_type": "code",
   "execution_count": 41,
   "metadata": {},
   "outputs": [],
   "source": [
    "from sklearn.feature_selection import f_classif\n",
    "from sklearn.feature_selection import SelectKBest\n",
    "from sklearn.feature_selection import SelectPercentile\n",
    "\n",
    "from sklearn.feature_selection import mutual_info_classif\n",
    "from sklearn.linear_model import LogisticRegression\n",
    "from sklearn.metrics import accuracy_score\n",
    "from sklearn.model_selection import RepeatedStratifiedKFold\n",
    "from sklearn.pipeline import Pipeline\n",
    "from sklearn.model_selection import GridSearchCV\n",
    "\n",
    "from sklearn.preprocessing import StandardScaler\n",
    "from sklearn.preprocessing import MinMaxScaler\n",
    "from sklearn.preprocessing import RobustScaler\n",
    "\n"
   ]
  },
  {
   "cell_type": "code",
   "execution_count": 3,
   "metadata": {},
   "outputs": [],
   "source": [
    "df_train = pd.read_csv(\"datasets/train_radiomics_hipocamp.csv\")\n",
    "df_test = pd.read_csv(\"datasets/test_radiomics_hipocamp.csv\")\n",
    "\n",
    "X_train, y_train = preprocessingV1(df_train)\n",
    "\n",
    "X_test = preprocessingV1(df_test,False)"
   ]
  },
  {
   "cell_type": "code",
   "execution_count": 59,
   "metadata": {},
   "outputs": [
    {
     "name": "stdout",
     "output_type": "stream",
     "text": [
      "Best Mean F1: 0.354\n",
      "Best Config: {'anova__k': 8, 'anova__score_func': <function f_classif at 0x000001CD99A33560>, 'lr__C': 100, 'lr__max_iter': 1000, 'lr__solver': 'newton-cg', 'scaler': MinMaxScaler()}\n"
     ]
    },
    {
     "name": "stderr",
     "output_type": "stream",
     "text": [
      "c:\\Users\\gusta\\.conda\\envs\\mypython3v\\Lib\\site-packages\\numpy\\ma\\core.py:2820: RuntimeWarning: invalid value encountered in cast\n",
      "  _data = np.array(data, dtype=dtype, copy=copy,\n"
     ]
    }
   ],
   "source": [
    "cv = RepeatedStratifiedKFold(n_splits=10, n_repeats=3, random_state=123)\n",
    "model = LogisticRegression(random_state=123)\n",
    "\n",
    "fs = SelectKBest(score_func=f_classif)\n",
    "pipeline = Pipeline(steps=[('anova',fs),  ('scaler', StandardScaler()),  ('lr', model)])\n",
    "\n",
    "grid = dict()\n",
    "\n",
    "\n",
    "grid = {\n",
    "        'scaler' : [StandardScaler(),MinMaxScaler(),RobustScaler()],\n",
    "\n",
    "        'anova__score_func': [ f_classif],\n",
    "        #'anova__score_func': [ f_classif,mutual_info_classif], # mutual_info_classif lenta e não tem melhores resultados\n",
    "        'anova__k': [i for i in range(8, 12)], # Number of features to select\n",
    "       # 'anova__k': [i for i in range(5, 20)], \n",
    "        #'anova__k': [15,100,500,1000,1500],  \n",
    "        \n",
    "       # 'lr__class_weight': ['balanced',None], # balanced nunca me deu melhor resultados\n",
    "        'lr__max_iter' : [1000], # As vezes nao convergia com 100\n",
    "     #   'lr__multi_class': ['multinomial'], # nao é preciso especificar isto, liblinear é o unico 'ovr' dos 3\n",
    "        'lr__solver': ['lbfgs','newton-cg','liblinear'], # \n",
    "        #'lr__C':[0.01, 0.1,1,10,100] # smaller values means stronger regularizaztion, \n",
    "        'lr__C':[1,10,100,1000] # 1-100 had better results\n",
    "    }\n",
    "\n",
    "search = GridSearchCV(pipeline, grid, scoring='f1_macro', n_jobs=-1, cv=cv, refit=True)\n",
    "results = search.fit(X_train, y_train)\n",
    "\n",
    "#Best Mean F1: 0.354\n",
    "#Best Config: {'anova__k': 8, 'anova__score_func': <function f_classif at 0x000001CD99A33560>, 'lr__C': 100, 'lr__max_iter': 1000, 'lr__solver': 'newton-cg', 'scaler': MinMaxScaler()}\n",
    "print('Best Mean Macro F1: %.3f' % results.best_score_)\n",
    "print('Best Config: %s' % results.best_params_)"
   ]
  },
  {
   "cell_type": "code",
   "execution_count": 30,
   "metadata": {},
   "outputs": [],
   "source": [
    "\n",
    "#Best Mean Accuracy: 0.474\n",
    "#Best Config: {'anova__k': 13, 'anova__score_func': <function f_classif at 0x000002188200B740>, 'lr__C': 0.1, 'lr__solver': 'lbfgs'}\n",
    "\n",
    "# so teve 0.21818\n",
    "\n",
    "\n",
    "\n",
    "#Best Mean F1: 0.340\n",
    "#Best Config: {'anova__k': 15, 'anova__score_func': <function f_classif at 0x000001CD99A33560>, 'lr__C': 0.1, 'lr__class_weight': None, 'lr__solver': 'newton-cg'}\n",
    "\n",
    "\n",
    "#Best Mean F1: 0.344\n",
    "#Best Config: {'anova__k': 18, 'anova__score_func': <function f_classif at 0x000001CD99A33560>, 'lr__C': 0.01, 'lr__multi_class': 'multinomial', 'lr__solver': 'lbfgs'}\n",
    "\n",
    "#Best Mean F1: 0.343\n",
    "#Best Config: {'anova__k': 21, 'anova__score_func': <function f_classif at 0x000001CD99A33560>, 'lr__C': 1, 'lr__max_iter': 1000, 'lr__multi_class': 'multinomial', 'lr__solver': 'lbfgs'}\n",
    "\n",
    "#Best Mean F1: 0.349\n",
    "#Best Config: {'anova__k': 10, 'anova__score_func': <function f_classif at 0x000001CD99A33560>, 'lr__C': 1, 'lr__max_iter': 1000, 'lr__multi_class': 'multinomial', 'lr__solver': 'lbfgs'}\n",
    "\n",
    "#Best Mean F1: 0.353\n",
    "#Best Config: {'anova__k': 10, 'anova__score_func': <function f_classif at 0x000001CD99A33560>, 'lr__C': 1, 'lr__max_iter': 1000, 'lr__multi_class': 'multinomial', 'lr__solver': 'lbfgs', 'scaler': MinMaxScaler()}\n",
    "\n",
    "#Best Mean F1: 0.354\n",
    "#Best Config: {'anova__k': 9, 'anova__score_func': <function f_classif at 0x000001CD99A33560>, 'lr__C': 100, 'lr__max_iter': 1000, 'lr__multi_class': 'multinomial', 'lr__solver': 'lbfgs', 'scaler': MinMaxScaler()}\n",
    "\n",
    "\n",
    "\n",
    "\n",
    "# Submeti este por ter o C mais baixo, resultado 0.27707\n",
    "\n",
    "# grid = {\n",
    "#         'scaler' : [StandardScaler(),MinMaxScaler(),RobustScaler()],\n",
    "#         'anova__score_func': [ f_classif],\n",
    "\n",
    "#         'anova__k': [i for i in range(5, 15)],\n",
    "        \n",
    "#         'lr__max_iter' : [1000],\n",
    "#         'lr__solver': ['lbfgs','newton-cg','liblinear'],\n",
    "#         'lr__C':[0.01, 0.1]\n",
    "#     }\n",
    "#Best Mean F1: 0.351\n",
    "#Best Config: {'anova__k': 11, 'anova__score_func': <function f_classif at 0x000001CD99A33560>, 'lr__C': 0.1, 'lr__max_iter': 1000, 'lr__solver': 'lbfgs', 'scaler': RobustScaler()}\n",
    "\n",
    "\n",
    "# e este\n",
    "\n",
    "# grid = {\n",
    "#         'scaler' : [StandardScaler(),MinMaxScaler(),RobustScaler()],\n",
    "#         'anova__score_func': [ f_classif],\n",
    "\n",
    "#         #'anova__score_func': [ f_classif,mutual_info_classif], # mutual_info_classif lenta e não tem melhores resultados\n",
    "#         'anova__k': [i for i in range(8, 12)],\n",
    "#         #'anova__k': [15,100,500,1000,1500],  # Number of features to select\n",
    "#        #'anova__k': [15],  # Number of features to select\n",
    "        \n",
    "#        # 'lr__class_weight': ['balanced',None],\n",
    "#         'lr__max_iter' : [1000],\n",
    "#      #   'lr__multi_class': ['multinomial'],\n",
    "#         'lr__solver': ['lbfgs','newton-cg','liblinear'],\n",
    "#         #'lr__solver': ['lbfgs', 'newton-cg'],  #liblinear not supported in multinomial\n",
    "#         #'lr__C':[0.01, 0.1] # smaller values means stronger regularizi\n",
    "#         'lr__C':[1,10,100,1000]\n",
    "#     }\n",
    "\n",
    "\n",
    "#Best Mean F1: 0.354\n",
    "#Best Config: {'anova__k': 8, 'anova__score_func': <function f_classif at 0x000001CD99A33560>, 'lr__C': 100, 'lr__max_iter': 1000, 'lr__solver': 'newton-cg', 'scaler': MinMaxScaler()}"
   ]
  },
  {
   "cell_type": "code",
   "execution_count": 60,
   "metadata": {},
   "outputs": [],
   "source": [
    "best_pipeline = search.best_estimator_\n",
    "y_test_results = best_pipeline.predict(X_test)"
   ]
  },
  {
   "cell_type": "code",
   "execution_count": 68,
   "metadata": {},
   "outputs": [],
   "source": [
    "# submitModel(best_pipeline.predict(X_test),'test_predictions_anova_lr_f1_0354_c01')\n",
    "# saveModel(best_pipeline,\"lr_anova_local_0354_submission_039047\")\n",
    "# loadedm = loadModel(\"best_models/lr_anova_local_0354_submission_039047.pkl\")\n"
   ]
  }
 ],
 "metadata": {
  "kernelspec": {
   "display_name": "mypython3v",
   "language": "python",
   "name": "python3"
  },
  "language_info": {
   "codemirror_mode": {
    "name": "ipython",
    "version": 3
   },
   "file_extension": ".py",
   "mimetype": "text/x-python",
   "name": "python",
   "nbconvert_exporter": "python",
   "pygments_lexer": "ipython3",
   "version": "3.12.4"
  }
 },
 "nbformat": 4,
 "nbformat_minor": 2
}
