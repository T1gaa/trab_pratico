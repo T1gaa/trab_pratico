{
 "cells": [
  {
   "cell_type": "code",
   "execution_count": 1,
   "metadata": {},
   "outputs": [],
   "source": [
    "from utils.preprocessing import preprocessingV1\n",
    "from utils.modelization import saveModel,loadModel,submitModel\n",
    "\n",
    "import pandas as pd\n",
    "import numpy as np\n"
   ]
  },
  {
   "cell_type": "code",
   "execution_count": 4,
   "metadata": {},
   "outputs": [],
   "source": [
    "df_test = pd.read_csv(\"datasets/test_radiomics_hipocamp.csv\")\n",
    "X_test = preprocessingV1(df_test,False)\n",
    "models_names = ['lr_anova_local_0354_submission_039047', \"cv_bagging_dt_mf1_3525\",\"cv_bagging_rf_mf1_0326\", 'cv_gbc_mf1_0339','cv_xgboost_mf1_0346',\n",
    "                'knn_local_042_submission_03555_test_probabilities'\n",
    "                #,'svc_mf1_0347_sigmoid_submission_028741'\n",
    "                ]\n",
    "\n",
    "classes = np.array(['AD-AD','CN-CN','CN-MCI','MCI-AD','MCI-MCI'],dtype = object)\n",
    "\n",
    "\n"
   ]
  },
  {
   "cell_type": "code",
   "execution_count": 8,
   "metadata": {},
   "outputs": [
    {
     "name": "stderr",
     "output_type": "stream",
     "text": [
      "[Parallel(n_jobs=1)]: Done  49 tasks      | elapsed:    0.0s\n"
     ]
    }
   ],
   "source": [
    "models_probs = [None]*len(models_names)\n",
    "for i in range(len(models_names)):\n",
    "    m = loadModel(models_names[i])\n",
    "    if models_names[i] == 'knn_local_042_submission_03555_test_probabilities':\n",
    "        models_probs[i] = m # stored probabilities because X_test had different features\n",
    "    else:\n",
    "        models_probs[i] = m.predict_proba(X_test)\n",
    "    # print(m.classes_) # para verificar que a ordem das classes esta consistente\n",
    "\n",
    "final_probs = models_probs[0]\n",
    "\n",
    "for i in range(1,len(models_probs)):\n",
    "    final_probs = final_probs + models_probs[i]\n",
    "        \n",
    "    \n",
    "\n",
    "final_probs = final_probs/len(models_names)\n",
    "\n",
    "\n",
    "results = classes[np.argmax(final_probs, axis=1)]\n"
   ]
  },
  {
   "cell_type": "code",
   "execution_count": null,
   "metadata": {},
   "outputs": [],
   "source": [
    "\n",
    "# submitModel(results,'test_softvoting')\n"
   ]
  }
 ],
 "metadata": {
  "kernelspec": {
   "display_name": "mypython3v",
   "language": "python",
   "name": "python3"
  },
  "language_info": {
   "codemirror_mode": {
    "name": "ipython",
    "version": 3
   },
   "file_extension": ".py",
   "mimetype": "text/x-python",
   "name": "python",
   "nbconvert_exporter": "python",
   "pygments_lexer": "ipython3",
   "version": "3.12.4"
  }
 },
 "nbformat": 4,
 "nbformat_minor": 2
}
