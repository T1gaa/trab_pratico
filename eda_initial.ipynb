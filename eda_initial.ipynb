{
 "cells": [
  {
   "cell_type": "code",
   "execution_count": 1,
   "metadata": {},
   "outputs": [],
   "source": [
    "import sklearn as skl\n",
    "import numpy as np\n",
    "import pandas as pd\n",
    "import matplotlib.pyplot as plt\n",
    "import seaborn as sns\n",
    "from sklearn import preprocessing"
   ]
  },
  {
   "cell_type": "code",
   "execution_count": 2,
   "metadata": {},
   "outputs": [],
   "source": [
    "\n",
    "df = pd.read_csv('datasets/train_radiomics_hipocamp.csv')\n",
    "df_control = pd.read_csv('datasets/train_radiomics_occipital_CONTROL.csv')"
   ]
  },
  {
   "cell_type": "markdown",
   "metadata": {},
   "source": [
    "# Stats iniciais\n"
   ]
  },
  {
   "cell_type": "code",
   "execution_count": 3,
   "metadata": {},
   "outputs": [
    {
     "name": "stdout",
     "output_type": "stream",
     "text": [
      "<class 'pandas.core.frame.DataFrame'>\n",
      "RangeIndex: 305 entries, 0 to 304\n",
      "Columns: 2181 entries, ID to Transition\n",
      "dtypes: float64(2014), int64(147), object(20)\n",
      "memory usage: 5.1+ MB\n"
     ]
    }
   ],
   "source": [
    "\n",
    "df.info()\n"
   ]
  },
  {
   "cell_type": "code",
   "execution_count": 4,
   "metadata": {},
   "outputs": [
    {
     "name": "stdout",
     "output_type": "stream",
     "text": [
      "<class 'pandas.core.frame.DataFrame'>\n",
      "RangeIndex: 305 entries, 0 to 304\n",
      "Columns: 2181 entries, ID to Transition\n",
      "dtypes: float64(2014), int64(147), object(20)\n",
      "memory usage: 5.1+ MB\n"
     ]
    }
   ],
   "source": [
    "# parecem o mesmo dataset???\n",
    "df_control.info()"
   ]
  },
  {
   "cell_type": "code",
   "execution_count": 5,
   "metadata": {},
   "outputs": [
    {
     "name": "stdout",
     "output_type": "stream",
     "text": [
      "False\n",
      "False\n"
     ]
    }
   ],
   "source": [
    "print(df.equals(df_control))\n",
    "# Check ignoring order\n",
    "print(df.sort_index(axis=0).sort_index(axis=1).equals(df_control.sort_index(axis=0).sort_index(axis=1)))\n",
    "\n",
    "# Parece que são diferentes apesar de terem as mesmas rows e collumns."
   ]
  },
  {
   "cell_type": "code",
   "execution_count": 6,
   "metadata": {},
   "outputs": [
    {
     "name": "stdout",
     "output_type": "stream",
     "text": [
      "Transition\n",
      "CN-CN      96\n",
      "MCI-MCI    71\n",
      "MCI-AD     68\n",
      "AD-AD      60\n",
      "CN-MCI     10\n",
      "Name: count, dtype: int64\n",
      "Transition\n",
      "CN-CN      96\n",
      "MCI-MCI    71\n",
      "MCI-AD     68\n",
      "AD-AD      60\n",
      "CN-MCI     10\n",
      "Name: count, dtype: int64\n"
     ]
    }
   ],
   "source": [
    "# Ainda não percebi a diferença entre dois e para que usar o de controlo.\n",
    "print(df_control['Transition'].value_counts())\n",
    "print(df['Transition'].value_counts())"
   ]
  },
  {
   "cell_type": "markdown",
   "metadata": {},
   "source": [
    "# Null Values"
   ]
  },
  {
   "cell_type": "code",
   "execution_count": 7,
   "metadata": {},
   "outputs": [
    {
     "data": {
      "text/plain": [
       "False"
      ]
     },
     "execution_count": 7,
     "metadata": {},
     "output_type": "execute_result"
    }
   ],
   "source": [
    "# Nenhum valor null\n",
    "df.isnull().sum().any()"
   ]
  },
  {
   "cell_type": "markdown",
   "metadata": {},
   "source": [
    "# Dealing With features with only one value, No Variance"
   ]
  },
  {
   "cell_type": "code",
   "execution_count": 8,
   "metadata": {},
   "outputs": [
    {
     "name": "stdout",
     "output_type": "stream",
     "text": [
      "lbp-2D_glcm_SumAverage                              1\n",
      "lbp-3D-m2_glrlm_LowGrayLevelRunEmphasis             1\n",
      "lbp-2D_glszm_SizeZoneNonUniformityNormalized        1\n",
      "lbp-2D_glszm_ZoneEntropy                            1\n",
      "lbp-2D_ngtdm_Busyness                               1\n",
      "lbp-3D-m2_glrlm_HighGrayLevelRunEmphasis            1\n",
      "lbp-3D-m2_glrlm_GrayLevelVariance                   1\n",
      "lbp-3D-m2_glrlm_GrayLevelNonUniformityNormalized    1\n",
      "lbp-2D_ngtdm_Coarseness                             1\n",
      "lbp-2D_ngtdm_Complexity                             1\n",
      "lbp-2D_ngtdm_Contrast                               1\n",
      "lbp-2D_ngtdm_Strength                               1\n",
      "lbp-3D-m2_gldm_LowGrayLevelEmphasis                 1\n",
      "lbp-2D_glszm_SizeZoneNonUniformity                  1\n",
      "lbp-3D-m1_firstorder_Entropy                        1\n",
      "lbp-3D-m2_gldm_GrayLevelVariance                    1\n",
      "lbp-3D-m1_firstorder_Maximum                        1\n",
      "lbp-3D-m1_firstorder_Minimum                        1\n",
      "lbp-3D-m1_firstorder_Range                          1\n",
      "lbp-3D-m2_glcm_SumSquares                           1\n",
      "dtype: int64\n",
      "\n",
      "Count of features with only 1 value: 159\n"
     ]
    }
   ],
   "source": [
    "print(df.nunique().sort_values().head(20))\n",
    "\n",
    "print(\"\\nCount of features with only 1 value: %d\" % sum(df.nunique() == 1) )\n",
    "\n",
    "features_without_variance = df.columns[df.nunique()==1].to_list()\n",
    "\n",
    "# df.drop( columns=features_without_variance,axis=1,inplace=True)\n",
    "\n",
    "clean_df = df.drop( columns=features_without_variance,axis=1)"
   ]
  },
  {
   "cell_type": "markdown",
   "metadata": {},
   "source": [
    "# Object type features"
   ]
  },
  {
   "cell_type": "code",
   "execution_count": 9,
   "metadata": {},
   "outputs": [],
   "source": [
    "\n",
    "columns_object = df.columns[df.dtypes == object]"
   ]
  },
  {
   "cell_type": "code",
   "execution_count": 10,
   "metadata": {},
   "outputs": [],
   "source": [
    "df_object = df[columns_object]\n",
    "\n",
    "df_object_converted = df_object.convert_dtypes()\n",
    "\n"
   ]
  },
  {
   "cell_type": "code",
   "execution_count": 11,
   "metadata": {},
   "outputs": [],
   "source": [
    "columns_simple_object_all_distinct = ['ID', \n",
    "                                       # file paths\n",
    "                                      'Image', \n",
    "                                      'Mask', \n",
    "                                       # hashes\n",
    "    'diagnostics_Image-original_Hash', 'diagnostics_Mask-original_Hash']\n",
    "                                      #\n",
    "colums_simple_object_same_value = [ \n",
    "                                      'diagnostics_Versions_PyRadiomics',\n",
    "        'diagnostics_Versions_Numpy', 'diagnostics_Versions_SimpleITK',\n",
    "       'diagnostics_Versions_PyWavelet', 'diagnostics_Versions_Python']\n",
    "\n",
    "colums_jsons_with_same_value = ['diagnostics_Configuration_Settings','diagnostics_Configuration_EnabledImageTypes']\n",
    "\n",
    "tuples_with_same_value = ['diagnostics_Image-original_Spacing','diagnostics_Image-original_Size','diagnostics_Mask-original_Spacing','diagnostics_Mask-original_Size']\n"
   ]
  },
  {
   "cell_type": "markdown",
   "metadata": {},
   "source": [
    "## Colunas Objeto sem valor de informação para os modelos\n",
    "\n",
    "As colunas ['ID', 'Image', 'Mask', 'diagnostics_Image-original_Hash', 'diagnostics_Mask-original_Hash'] reprentam, IDs, diretorias de ficheiros e hashes. Cada uma contem valores completamente distintos e como é uma feature categórica não tem valor de informação.\n",
    "\n",
    "As seguintes features são compostas por versões e têm sempre o mesmo valor, não tendo interesse. [ \n",
    "                                      'diagnostics_Versions_PyRadiomics',\n",
    "        'diagnostics_Versions_Numpy', 'diagnostics_Versions_SimpleITK',\n",
    "       'diagnostics_Versions_PyWavelet', 'diagnostics_Versions_Python']\n",
    "\n",
    "As features de configuração, contêm um json, no entanto a configuração é sempre a mesma não havendo interesse em decompor o json em novas features ['diagnostics_Configuration_Settings','diagnostics_Configuration_EnabledImageTypes'].\n",
    "\n",
    "As features de spacing e size contêm tuplos de 3 elementos, ['diagnostics_Image-original_Spacing','diagnostics_Image-original_Size','diagnostics_Mask-original_Spacing','diagnostics_Mask-original_Size']. Os tuplos são sempre iguais, não tem interesse.\n",
    "\n",
    "## Colunas Objeto com algum potencial de informação\n",
    "\n",
    "A feature diagnostics_Mask-original_BoundingBox é um tuplo com 6 dimensões com variação nos valores. Pode ser decomposta em 6 features, no entanto cada valor separado representa uma coordenada e não deve ter significado para a deteção. No entanto, algumas features derivadas podem ter interesse, como por exemplo o volume. \n",
    "\n",
    "As features diagnostics_Mask-original_CenterOfMassIndex e diagnostics_Mask-original_CenterOfMass são tuplos de 3 dimensões. Não tendo conhecimento do domínio, explorou se mais uma feature matemática, magnitude do vector em relação à origem.\n",
    "\n",
    "\n"
   ]
  },
  {
   "cell_type": "markdown",
   "metadata": {},
   "source": [
    "# Conclusões/Notas\n",
    "\n",
    "No module preprocessing.py foram adicionadas as transformações descritas.\n",
    "\n",
    "Foi observado também que há features com um range de valores ora com floats muito pequenos ou bem grandes. Necessário scaling ou outro tipo de técnicas para alguns tipo de modelos ( com árvores não deve fazer diferença).\n",
    "\n",
    "Há uma grande quantidade de features para um numero reduzido de amostras. Pode ser interessante explorar técnicas de feature selection ou outras."
   ]
  }
 ],
 "metadata": {
  "kernelspec": {
   "display_name": "myenv",
   "language": "python",
   "name": "python3"
  },
  "language_info": {
   "codemirror_mode": {
    "name": "ipython",
    "version": 3
   },
   "file_extension": ".py",
   "mimetype": "text/x-python",
   "name": "python",
   "nbconvert_exporter": "python",
   "pygments_lexer": "ipython3",
   "version": "3.12.4"
  }
 },
 "nbformat": 4,
 "nbformat_minor": 2
}
