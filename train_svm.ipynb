{
 "cells": [
  {
   "cell_type": "code",
   "execution_count": 1,
   "metadata": {},
   "outputs": [],
   "source": [
    "from utils.preprocessing import preprocessingV1\n",
    "from utils.modelization import saveModel,loadModel,submitModel\n",
    "\n",
    "import pandas as pd\n",
    "import numpy as np\n",
    "\n",
    "import matplotlib.pyplot as plt\n",
    "from sklearn import preprocessing"
   ]
  },
  {
   "cell_type": "code",
   "execution_count": 2,
   "metadata": {},
   "outputs": [],
   "source": [
    "\n",
    "from sklearn.model_selection import RepeatedStratifiedKFold\n",
    "from sklearn.pipeline import Pipeline\n",
    "from sklearn.model_selection import GridSearchCV\n",
    "\n",
    "from sklearn.preprocessing import StandardScaler\n",
    "from sklearn.preprocessing import MinMaxScaler\n",
    "from sklearn.preprocessing import RobustScaler\n",
    "\n",
    "from sklearn.svm import SVC\n"
   ]
  },
  {
   "cell_type": "code",
   "execution_count": 3,
   "metadata": {},
   "outputs": [],
   "source": [
    "df_train = pd.read_csv(\"datasets/train_radiomics_hipocamp.csv\")\n",
    "df_test = pd.read_csv(\"datasets/test_radiomics_hipocamp.csv\")\n",
    "\n",
    "X_train, y_train = preprocessingV1(df_train)\n",
    "\n",
    "X_test = preprocessingV1(df_test,False)"
   ]
  },
  {
   "cell_type": "code",
   "execution_count": 21,
   "metadata": {},
   "outputs": [
    {
     "name": "stdout",
     "output_type": "stream",
     "text": [
      "Best Mean Macro F1: 0.328\n",
      "Best Config: {'scaler': MinMaxScaler(), 'svc__C': 100, 'svc__degree': 1, 'svc__gamma': 'auto', 'svc__kernel': 'poly'}\n"
     ]
    }
   ],
   "source": [
    "cv = RepeatedStratifiedKFold(n_splits=10, n_repeats=3, random_state=123)\n",
    "model = SVC(random_state=123)\n",
    "\n",
    "pipeline = Pipeline( [('scaler', StandardScaler()),  ('svc', model)])\n",
    "\n",
    "grid = dict()\n",
    "\n",
    "# sphx_glr_auto_examples_model_selection_plot_nested_cross_validation_iris.py\n",
    "grid = {\n",
    "       # 'scaler' : [None, StandardScaler(),MinMaxScaler(),RobustScaler()],\n",
    "        'scaler' : [MinMaxScaler()],\n",
    "       # 'svc__kernel': ['linear', 'rbf', 'poly','sigmoid'], # Kernels to test\n",
    "        #'svc__class_weight': ['balanced',None], # balanced nunca me deu melhor resultados\n",
    "        'svc__kernel': ['poly'],\n",
    "        'svc__gamma': ['scale', 'auto', 0.001,0.01, 0.1, 1], # Gamma values ‘rbf’, ‘poly’, and ‘sigmoid’\n",
    "        'svc__degree': [1,2, 3, 4],                # Degree for 'poly' kernel\n",
    "        # 'svc__coef0': [0.0, 0.1, 0.5, 1.0, 2.0],#  Independent term in kernel function. It is only significant in 'poly' and 'sigmoid'.\n",
    "        'svc__C':[0.01,0.1,1,10,100,1000] # smaller values means stronger regularizaztion, \n",
    "    }\n",
    "\n",
    "\n",
    "\n",
    "search = GridSearchCV(pipeline, grid, scoring='f1_macro', n_jobs=-1, cv=cv, refit=True)\n",
    "results = search.fit(X_train, y_train)\n",
    "\n",
    "print('Best Mean Macro F1: %.3f' % results.best_score_)\n",
    "print('Best Config: %s' % results.best_params_)"
   ]
  },
  {
   "cell_type": "code",
   "execution_count": null,
   "metadata": {},
   "outputs": [],
   "source": [
    "grid = {\n",
    "        'scaler' : [None, StandardScaler(),MinMaxScaler(),RobustScaler()],\n",
    "        'svc__kernel': ['linear', 'rbf', 'poly','sigmoid'], # Kernels to test\n",
    "        #'svc__class_weight': ['balanced',None], # balanced nunca me deu melhor resultados\n",
    "        'svc__kernel': ['poly'],\n",
    "        'svc__gamma': ['scale', 'auto', 0.001,0.01, 0.1, 1], # Gamma values ‘rbf’, ‘poly’, and ‘sigmoid’\n",
    "        'svc__degree': [1,2, 3, 4],                # Degree for 'poly' kernel\n",
    "         'svc__coef0': [0.0, 0.1, 0.5, 1.0, 2.0],#  Independent term in kernel function. It is only significant in 'poly' and 'sigmoid'.\n",
    "        'svc__C':[0.01,0.1,1,10,100,1000] # smaller values means stronger regularizaztion, \n",
    "    }\n",
    "############# 'linear only'\n",
    "#Best Mean Macro F1: 0.309\n",
    "#Best Config: {'scaler': MinMaxScaler(), 'svc__C': 0.1, 'svc__degree': 2, 'svc__gamma': 'scale', 'svc__kernel': 'linear'}\n",
    "# melhorou com o MinMaxScaler()\n",
    "\n",
    "################# 'rbf\n",
    "#Best Mean Macro F1: 0.310\n",
    "#Best Config: {'svc__C': 10, 'svc__degree': 2, 'svc__gamma': 'scale', 'svc__kernel': 'rbf'}\n",
    "# Best Config: {'scaler': MinMaxScaler(), 'svc__C': 10, 'svc__degree': 2, 'svc__gamma': 'scale', 'svc__kernel': 'rbf'}\n",
    "# melhorou com o MinMaxScaler()\n",
    "\n",
    "############ 'poly'\n",
    "#Best Mean Macro F1: 0.310\n",
    "# Best Config: {'svc__C': 0.1, 'svc__degree': 3, 'svc__gamma': 0.01, 'svc__kernel': 'poly'}\n",
    "# scaler n fez diferença\n",
    "\n",
    "#Best Mean Macro F1: 0.328\n",
    "#Best Config: {'scaler': MinMaxScaler(), 'svc__C': 100, 'svc__degree': 1, 'svc__gamma': 'auto', 'svc__kernel': 'poly'}\n",
    "\n",
    "################ 'sigmoid'\n",
    "#Best Mean Macro F1: 0.298\n",
    "#Best Config: {'scaler': StandardScaler(), 'svc__C': 10, 'svc__degree': 2, 'svc__gamma': 0.01, 'svc__kernel': 'sigmoid'}\n"
   ]
  },
  {
   "cell_type": "code",
   "execution_count": null,
   "metadata": {},
   "outputs": [],
   "source": [
    "\n",
    "#Best Mean Macro F1: 0.328\n",
    "#Best Config: {'scaler': MinMaxScaler(), 'svc__C': 100, 'svc__degree': 1, 'svc__gamma': 'auto', 'svc__kernel': 'poly'}\n",
    "\n",
    "grid = {\n",
    "       # 'scaler' : [None, StandardScaler(),MinMaxScaler(),RobustScaler()],\n",
    "        'scaler' : [MinMaxScaler()],\n",
    "        #'svc__C': [0.1, 1, 10, 100],             # Regularization\n",
    "       # 'svc__kernel': ['linear', 'rbf', 'poly','sigmoid'], # Kernels to test\n",
    "        #'svc__class_weight': ['balanced',None], # balanced nunca me deu melhor resultados\n",
    "\n",
    "        'svc__kernel': ['poly'],\n",
    "        'svc__gamma': ['scale', 'auto', 0.001,0.01, 0.1, 1], # Gamma values ‘rbf’, ‘poly’, and ‘sigmoid’\n",
    "        'svc__degree': [1,2, 3, 4],                # Degree for 'poly' kernel\n",
    "      #  'svc__coef0': [0.0, 0.1, 0.5, 1.0, 2.0],#  Independent term in kernel function. It is only significant in 'poly' and 'sigmoid'.\n",
    "        #'svc__' : []\n",
    "        'svc__C':[0.01,0.1,1,10,100] # smaller values means stronger regularizaztion, \n",
    "    }"
   ]
  },
  {
   "cell_type": "code",
   "execution_count": null,
   "metadata": {},
   "outputs": [],
   "source": [
    "#Best Mean Macro F1: 0.347\n",
    "# kernel sigmoid\n",
    "#Best Config: {'scaler': MinMaxScaler(), 'svc__C': 1000, 'svc__coef0': 1.0, 'svc__degree': 1, 'svc__gamma': 'scale', 'svc__kernel': 'sigmoid'}\n",
    "\n",
    "grid = {\n",
    "       # 'scaler' : [None, StandardScaler(),MinMaxScaler(),RobustScaler()],\n",
    "        'scaler' : [MinMaxScaler()],\n",
    "        #'svc__C': [0.1, 1, 10, 100],             # Regularization\n",
    "       # 'svc__kernel': ['linear', 'rbf', 'poly','sigmoid'], # Kernels to test\n",
    "        #'svc__class_weight': ['balanced',None], # balanced nunca me deu melhor resultados\n",
    "\n",
    "        'svc__kernel': ['sigmoid'],\n",
    "        'svc__gamma': ['scale', 'auto', 0.001,0.01, 0.1, 1], # Gamma values ‘rbf’, ‘poly’, and ‘sigmoid’\n",
    "        'svc__degree': [1,2, 3, 4],                # Degree for 'poly' kernel\n",
    "        'svc__coef0': [0.0, 0.1, 0.5, 1.0, 2.0],#  Independent term in kernel function. It is only significant in 'poly' and 'sigmoid'.\n",
    "        'svc__C':[0.01,0.1,1,10,100,1000] # smaller values means stronger regularizaztion, \n",
    "    }\n"
   ]
  },
  {
   "cell_type": "code",
   "execution_count": 22,
   "metadata": {},
   "outputs": [],
   "source": [
    "best_pipeline = search.best_estimator_\n",
    "y_test_results = best_pipeline.predict(X_test)\n",
    "\n",
    "#Best Mean Macro F1: 0.347\n",
    "#Best Config: {'scaler': MinMaxScaler(), 'svc__C': 1000, 'svc__coef0': 1.0, 'svc__degree': 1, 'svc__gamma': 'scale', 'svc__kernel': 'sigmoid'}\n",
    "#submitModel(y_test_results,'test_predictions_svc_mf1_0347_sigmoid')\n",
    "\n",
    "\n",
    "#Best Mean Macro F1: 0.328\n",
    "#Best Config: {'scaler': MinMaxScaler(), 'svc__C': 100, 'svc__degree': 1, 'svc__gamma': 'auto', 'svc__kernel': 'poly'}\n",
    "#submitModel(y_test_results,'test_predictions_svc_mf1_0328_poly')\n"
   ]
  },
  {
   "cell_type": "code",
   "execution_count": 23,
   "metadata": {},
   "outputs": [],
   "source": [
    "#Best Mean Macro F1: 0.328\n",
    "#Best Config: {'scaler': MinMaxScaler(), 'svc__C': 100, 'svc__degree': 1, 'svc__gamma': 'auto', 'svc__kernel': 'poly'}\n",
    "#saveModel(best_pipeline,\"svc_predictions_svc_mf1_0328_poly_submission_022811\")\n",
    "\n",
    "\n",
    "\n",
    "#Best Mean Macro F1: 0.347\n",
    "#Best Config: {'scaler': MinMaxScaler(), 'svc__C': 1000, 'svc__coef0': 1.0, 'svc__degree': 1, 'svc__gamma': 'scale', 'svc__kernel': 'sigmoid'}\n",
    "#saveModel(best_pipeline,\"svc_mf1_0347_sigmoid_submission_028741\")\n",
    "\n",
    "# loadedm = loadModel(\"best_models/lr_anova_local_0354_submission_039047.pkl\")"
   ]
  },
  {
   "cell_type": "code",
   "execution_count": 10,
   "metadata": {},
   "outputs": [
    {
     "name": "stdout",
     "output_type": "stream",
     "text": [
      "Best Mean Macro F1: 0.343\n",
      "Best Config: {'anova__k': 2000, 'scaler': MinMaxScaler(), 'svc__C': 100, 'svc__gamma': 'scale', 'svc__kernel': 'sigmoid'}\n"
     ]
    }
   ],
   "source": [
    "## Experimentação com filtering e SVM, não teve grandes resultados\n",
    "\n",
    "from sklearn.feature_selection import f_classif\n",
    "from sklearn.feature_selection import SelectKBest\n",
    "from sklearn.feature_selection import SelectPercentile\n",
    "\n",
    "cv = RepeatedStratifiedKFold(n_splits=10, n_repeats=3, random_state=123)\n",
    "model = SVC(random_state=123)\n",
    "\n",
    "fs = SelectKBest(score_func=f_classif)\n",
    "pipeline = Pipeline( [('anova',fs), ('scaler', StandardScaler()),  ('svc', model)])\n",
    "\n",
    "grid = dict()\n",
    "\n",
    "# sphx_glr_auto_examples_model_selection_plot_nested_cross_validation_iris.py\n",
    "grid = {\n",
    "       # 'scaler' : [None, StandardScaler(),MinMaxScaler(),RobustScaler()],\n",
    "       # 'anova__k' : [10,15,100,1000,None],\n",
    "         'anova__k' : [10,500,1000,1500,2000],\n",
    "        \n",
    "        'scaler' : [MinMaxScaler()],\n",
    "       # 'svc__kernel': ['linear', 'rbf', 'poly','sigmoid'], # Kernels to test\n",
    "        #'svc__class_weight': ['balanced',None], # balanced nunca me deu melhor resultados\n",
    "        'svc__kernel': ['sigmoid'],\n",
    "          'svc__gamma': ['scale'],\n",
    "      #  'svc__gamma': ['scale', 'auto', 0.001,0.01, 0.1, 1], # Gamma values ‘rbf’, ‘poly’, and ‘sigmoid’\n",
    "        # 'svc__degree': [1,2, 3, 4],                # Degree for 'poly' kernel\n",
    "        # 'svc__coef0': [0.0, 0.1, 0.5, 1.0, 2.0],#  Independent term in kernel function. It is only significant in 'poly' and 'sigmoid'.\n",
    "        'svc__C':[0.01,0.1,1,10,100,1000] # smaller values means stronger regularizaztion, \n",
    "    }\n",
    "\n",
    "\n",
    "\n",
    "search = GridSearchCV(pipeline, grid, scoring='f1_macro', n_jobs=-1, cv=cv, refit=True)\n",
    "results = search.fit(X_train, y_train)\n",
    "\n",
    "print('Best Mean Macro F1: %.3f' % results.best_score_)\n",
    "print('Best Config: %s' % results.best_params_)"
   ]
  }
 ],
 "metadata": {
  "kernelspec": {
   "display_name": "mypython3v",
   "language": "python",
   "name": "python3"
  },
  "language_info": {
   "codemirror_mode": {
    "name": "ipython",
    "version": 3
   },
   "file_extension": ".py",
   "mimetype": "text/x-python",
   "name": "python",
   "nbconvert_exporter": "python",
   "pygments_lexer": "ipython3",
   "version": "3.12.4"
  }
 },
 "nbformat": 4,
 "nbformat_minor": 2
}
